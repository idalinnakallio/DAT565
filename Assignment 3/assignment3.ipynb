{
 "cells": [
  {
   "cell_type": "markdown",
   "metadata": {},
   "source": [
    "# Assignment 3"
   ]
  },
  {
   "cell_type": "code",
   "execution_count": 8,
   "metadata": {},
   "outputs": [],
   "source": [
    "# importing necessary packages\n",
    "import pandas as pd\n",
    "import tarfile"
   ]
  },
  {
   "cell_type": "markdown",
   "metadata": {},
   "source": [
    "## Problem 1: Spam and Ham data"
   ]
  },
  {
   "cell_type": "code",
   "execution_count": 9,
   "metadata": {},
   "outputs": [],
   "source": [
    "def read_data(fn):\n",
    "    dataset = list()\n",
    "    with tarfile.open(fn) as tf:\n",
    "        for i in tf:\n",
    "            if i.isfile():\n",
    "                with tf.extractfile(i) as f:\n",
    "                    b  = f.read()\n",
    "                    if b'charset=utf-8' in b or b'charset=UTF-8' in b:\n",
    "                        s = b.decode('utf-8')\n",
    "                    else:\n",
    "                        s = b.decode('iso-8859-1')\n",
    "                    dataset.append(s)\n",
    "    return dataset"
   ]
  },
  {
   "cell_type": "code",
   "execution_count": 10,
   "metadata": {},
   "outputs": [],
   "source": [
    "data = {\n",
    "    'easy_ham': read_data('data/20021010_easy_ham.tar.bz2'),\n",
    "    'hard_ham': read_data('data/20021010_hard_ham.tar.bz2'),\n",
    "    'spam': read_data('data/20021010_spam.tar.bz2')\n",
    "}"
   ]
  },
  {
   "cell_type": "code",
   "execution_count": 11,
   "metadata": {},
   "outputs": [],
   "source": [
    "df_eh = pd.DataFrame(data['easy_ham']) \n",
    "df_hh = pd.DataFrame(data['hard_ham'])\n",
    "df_spam = pd.DataFrame(data['spam'])"
   ]
  },
  {
   "cell_type": "code",
   "execution_count": 15,
   "metadata": {},
   "outputs": [],
   "source": [
    "df_eh['label'] = 'ham'\n",
    "df_hh['label'] = 'ham'\n",
    "df_spam['label'] = 'spam'"
   ]
  },
  {
   "cell_type": "code",
   "execution_count": 16,
   "metadata": {},
   "outputs": [
    {
     "data": {
      "text/html": [
       "<div>\n",
       "<style scoped>\n",
       "    .dataframe tbody tr th:only-of-type {\n",
       "        vertical-align: middle;\n",
       "    }\n",
       "\n",
       "    .dataframe tbody tr th {\n",
       "        vertical-align: top;\n",
       "    }\n",
       "\n",
       "    .dataframe thead th {\n",
       "        text-align: right;\n",
       "    }\n",
       "</style>\n",
       "<table border=\"1\" class=\"dataframe\">\n",
       "  <thead>\n",
       "    <tr style=\"text-align: right;\">\n",
       "      <th></th>\n",
       "      <th>0</th>\n",
       "      <th>label</th>\n",
       "    </tr>\n",
       "  </thead>\n",
       "  <tbody>\n",
       "    <tr>\n",
       "      <th>0</th>\n",
       "      <td>From fork-admin@xent.com  Wed Aug 28 10:50:29 ...</td>\n",
       "      <td>ham</td>\n",
       "    </tr>\n",
       "    <tr>\n",
       "      <th>1</th>\n",
       "      <td>From exmh-users-admin@redhat.com  Mon Sep  2 1...</td>\n",
       "      <td>ham</td>\n",
       "    </tr>\n",
       "    <tr>\n",
       "      <th>2</th>\n",
       "      <td>From exmh-users-admin@redhat.com  Fri Sep 13 1...</td>\n",
       "      <td>ham</td>\n",
       "    </tr>\n",
       "    <tr>\n",
       "      <th>3</th>\n",
       "      <td>From rpm-list-admin@freshrpms.net  Thu Aug 29 ...</td>\n",
       "      <td>ham</td>\n",
       "    </tr>\n",
       "    <tr>\n",
       "      <th>4</th>\n",
       "      <td>From rpm-list-admin@freshrpms.net  Mon Sep  9 ...</td>\n",
       "      <td>ham</td>\n",
       "    </tr>\n",
       "    <tr>\n",
       "      <th>...</th>\n",
       "      <td>...</td>\n",
       "      <td>...</td>\n",
       "    </tr>\n",
       "    <tr>\n",
       "      <th>2546</th>\n",
       "      <td>From fork-admin@xent.com  Thu Aug 29 16:52:57 ...</td>\n",
       "      <td>ham</td>\n",
       "    </tr>\n",
       "    <tr>\n",
       "      <th>2547</th>\n",
       "      <td>From fork-admin@xent.com  Thu Aug 29 16:32:25 ...</td>\n",
       "      <td>ham</td>\n",
       "    </tr>\n",
       "    <tr>\n",
       "      <th>2548</th>\n",
       "      <td>From fork-admin@xent.com  Mon Sep  2 13:14:58 ...</td>\n",
       "      <td>ham</td>\n",
       "    </tr>\n",
       "    <tr>\n",
       "      <th>2549</th>\n",
       "      <td>From fork-admin@xent.com  Mon Sep  2 16:22:23 ...</td>\n",
       "      <td>ham</td>\n",
       "    </tr>\n",
       "    <tr>\n",
       "      <th>2550</th>\n",
       "      <td>From fork-admin@xent.com  Mon Sep  2 16:22:12 ...</td>\n",
       "      <td>ham</td>\n",
       "    </tr>\n",
       "  </tbody>\n",
       "</table>\n",
       "<p>2551 rows × 2 columns</p>\n",
       "</div>"
      ],
      "text/plain": [
       "                                                      0 label\n",
       "0     From fork-admin@xent.com  Wed Aug 28 10:50:29 ...   ham\n",
       "1     From exmh-users-admin@redhat.com  Mon Sep  2 1...   ham\n",
       "2     From exmh-users-admin@redhat.com  Fri Sep 13 1...   ham\n",
       "3     From rpm-list-admin@freshrpms.net  Thu Aug 29 ...   ham\n",
       "4     From rpm-list-admin@freshrpms.net  Mon Sep  9 ...   ham\n",
       "...                                                 ...   ...\n",
       "2546  From fork-admin@xent.com  Thu Aug 29 16:52:57 ...   ham\n",
       "2547  From fork-admin@xent.com  Thu Aug 29 16:32:25 ...   ham\n",
       "2548  From fork-admin@xent.com  Mon Sep  2 13:14:58 ...   ham\n",
       "2549  From fork-admin@xent.com  Mon Sep  2 16:22:23 ...   ham\n",
       "2550  From fork-admin@xent.com  Mon Sep  2 16:22:12 ...   ham\n",
       "\n",
       "[2551 rows x 2 columns]"
      ]
     },
     "execution_count": 16,
     "metadata": {},
     "output_type": "execute_result"
    }
   ],
   "source": [
    "df_eh"
   ]
  },
  {
   "cell_type": "code",
   "execution_count": 12,
   "metadata": {},
   "outputs": [],
   "source": [
    "df_eh.to_csv(\"eh_content.csv\")\n",
    "df_hh.to_csv(\"hh_content.csv\")\n",
    "df_spam.to_csv(\"spam_content.csv\")"
   ]
  },
  {
   "cell_type": "markdown",
   "metadata": {},
   "source": []
  },
  {
   "cell_type": "markdown",
   "metadata": {},
   "source": [
    "B. Data Splitting"
   ]
  },
  {
   "cell_type": "code",
   "execution_count": 14,
   "metadata": {},
   "outputs": [],
   "source": [
    "from sklearn.model_selection import train_test_split\n",
    "\n"
   ]
  }
 ],
 "metadata": {
  "kernelspec": {
   "display_name": "env",
   "language": "python",
   "name": "python3"
  },
  "language_info": {
   "codemirror_mode": {
    "name": "ipython",
    "version": 3
   },
   "file_extension": ".py",
   "mimetype": "text/x-python",
   "name": "python",
   "nbconvert_exporter": "python",
   "pygments_lexer": "ipython3",
   "version": "3.11.7"
  }
 },
 "nbformat": 4,
 "nbformat_minor": 2
}
