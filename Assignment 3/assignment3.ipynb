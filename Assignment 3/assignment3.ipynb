{
 "cells": [
  {
   "cell_type": "markdown",
   "metadata": {},
   "source": [
    "# Assignment 3"
   ]
  },
  {
   "cell_type": "code",
   "execution_count": 1,
   "metadata": {},
   "outputs": [
    {
     "name": "stderr",
     "output_type": "stream",
     "text": [
      "/var/folders/z1/2gclrh7s5_56l2ndhf0qrc4m0000gn/T/ipykernel_35622/3439436074.py:2: DeprecationWarning: \n",
      "Pyarrow will become a required dependency of pandas in the next major release of pandas (pandas 3.0),\n",
      "(to allow more performant data types, such as the Arrow string type, and better interoperability with other libraries)\n",
      "but was not found to be installed on your system.\n",
      "If this would cause problems for you,\n",
      "please provide us feedback at https://github.com/pandas-dev/pandas/issues/54466\n",
      "        \n",
      "  import pandas as pd\n"
     ]
    }
   ],
   "source": [
    "# importing necessary packages\n",
    "import pandas as pd\n",
    "import tarfile"
   ]
  },
  {
   "cell_type": "markdown",
   "metadata": {},
   "source": [
    "## Problem 1: Spam and Ham data"
   ]
  },
  {
   "cell_type": "code",
   "execution_count": 2,
   "metadata": {},
   "outputs": [],
   "source": [
    "def read_data(fn):\n",
    "    dataset = list()\n",
    "    with tarfile.open(fn) as tf:\n",
    "        for i in tf:\n",
    "            if i.isfile():\n",
    "                with tf.extractfile(i) as f:\n",
    "                    b  = f.read()\n",
    "                    if b'charset=utf-8' in b or b'charset=UTF-8' in b:\n",
    "                        s = b.decode('utf-8')\n",
    "                    else:\n",
    "                        s = b.decode('iso-8859-1')\n",
    "                    dataset.append(s)\n",
    "    return dataset"
   ]
  },
  {
   "cell_type": "code",
   "execution_count": 3,
   "metadata": {},
   "outputs": [],
   "source": [
    "data = {\n",
    "    'easy_ham': read_data('20021010_easy_ham.tar.bz2'),\n",
    "    'hard_ham': read_data('20021010_hard_ham.tar.bz2'),\n",
    "    'spam': read_data('20021010_spam.tar.bz2')\n",
    "}"
   ]
  },
  {
   "cell_type": "code",
   "execution_count": 4,
   "metadata": {},
   "outputs": [],
   "source": [
    "df_eh = pd.DataFrame(data['easy_ham']) "
   ]
  }
 ],
 "metadata": {
  "kernelspec": {
   "display_name": "env",
   "language": "python",
   "name": "python3"
  },
  "language_info": {
   "codemirror_mode": {
    "name": "ipython",
    "version": 3
   },
   "file_extension": ".py",
   "mimetype": "text/x-python",
   "name": "python",
   "nbconvert_exporter": "python",
   "pygments_lexer": "ipython3",
   "version": "3.11.4"
  }
 },
 "nbformat": 4,
 "nbformat_minor": 2
}
