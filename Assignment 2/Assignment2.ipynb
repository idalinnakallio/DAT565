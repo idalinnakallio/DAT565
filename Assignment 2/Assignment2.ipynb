{
 "cells": [
  {
   "cell_type": "markdown",
   "id": "33dc4e06",
   "metadata": {},
   "source": [
    "# Assignment 2"
   ]
  },
  {
   "cell_type": "code",
   "execution_count": 1,
   "id": "684c444a-4629-458b-93b5-08ad7e9dd5e6",
   "metadata": {},
   "outputs": [],
   "source": [
    "\n",
    "# Import necessary packages\n",
    "import tarfile\n",
    "import os\n",
    "from bs4 import BeautifulSoup\n",
    "import pandas as pd\n"
   ]
  },
  {
   "cell_type": "code",
   "execution_count": 12,
   "id": "f6fe7cf9",
   "metadata": {},
   "outputs": [],
   "source": [
    "file_path = \"kungalv_slutpriser.tar.gz\"\n",
    "\n",
    "if file_path.endswith(\"tar.gz\"):\n",
    "    tar = tarfile.open(file_path, \"r:gz\")\n",
    "    tar.extractall()\n",
    "    tar.close()\n",
    "elif file_path.endswith(\"tar\"):\n",
    "    tar = tarfile.open(file_path, \"r:\")\n",
    "    tar.extractall()\n",
    "    tar.close()\n",
    "\n"
   ]
  },
  {
   "cell_type": "code",
   "execution_count": 10,
   "id": "dc0a1faa",
   "metadata": {},
   "outputs": [
    {
     "name": "stdout",
     "output_type": "stream",
     "text": [
      "<span class=\"hcl-text hcl-text--medium\">\n",
      "              Slutpris 3 005 000 kr\n",
      "            </span>\n",
      "<span class=\"hcl-text hcl-text--medium\">\n",
      "              Slutpris 3 005 000 kr\n",
      "            </span>\n",
      "<span class=\"hcl-text hcl-text--medium\">\n",
      "              Slutpris 3 005 000 kr\n",
      "            </span>\n"
     ]
    }
   ],
   "source": [
    "\n",
    "with open(\"kungalv_slutpriser/kungalv_slutpris_page_01.html\") as fp:\n",
    "    soup = BeautifulSoup(fp, 'html.parser')\n",
    "\n",
    "# date of sale\n",
    "listings = soup.find_all('li', {'class' : 'sold-results__normal-hit'})\n",
    "\n",
    "for listing in listings[0]:\n",
    "   # print(listing.get_text().strip())\n",
    "    dateofsale = soup.find('span', {'class' : 'hcl-label hcl-label--state hcl-label--sold-at'})\n",
    "    address = soup.find('h2', {'class' : 'sold-property-listing__heading qa-selling-price-title hcl-card__title'})\n",
    "    location = soup.find('span', {'class' : 'property-icon property-icon--result'})\n",
    "    listingarea = soup.find('div', {'class' : 'sold-property-listing__subheading sold-property-listing__area'})\n",
    "    plotarea = soup.find('div', {'class' : 'sold-property-listing__land-area'})\n",
    "    closingprice = soup.find('span', {'class' : 'hcl-text hcl-text--medium'})\n",
    "    #daate = print(dateofsale.get_text().strip()[4:])\n",
    "    print(closingprice)\n",
    "\n",
    "\n",
    "    \n",
    "#address\n",
    "    \n",
    "#location\n",
    "    \n",
    "#area in the form (boarea + biarea)\n",
    "\n",
    "#number of rooms\n",
    "    \n",
    "#area of the plot\n",
    "    \n",
    "\n",
    "#closing price\n"
   ]
  }
 ],
 "metadata": {
  "kernelspec": {
   "display_name": "Python 3 (ipykernel)",
   "language": "python",
   "name": "python3"
  },
  "language_info": {
   "codemirror_mode": {
    "name": "ipython",
    "version": 3
   },
   "file_extension": ".py",
   "mimetype": "text/x-python",
   "name": "python",
   "nbconvert_exporter": "python",
   "pygments_lexer": "ipython3",
   "version": "3.11.7"
  }
 },
 "nbformat": 4,
 "nbformat_minor": 5
}
