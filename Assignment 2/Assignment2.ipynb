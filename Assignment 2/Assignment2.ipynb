{
 "cells": [
  {
   "cell_type": "markdown",
   "id": "33dc4e06",
   "metadata": {},
   "source": [
    "# Assignment 2"
   ]
  },
  {
   "cell_type": "code",
   "execution_count": 34,
   "id": "684c444a-4629-458b-93b5-08ad7e9dd5e6",
   "metadata": {},
   "outputs": [],
   "source": [
    "\n",
    "# Import necessary packages\n",
    "import tarfile\n",
    "import os\n",
    "from bs4 import BeautifulSoup\n",
    "import pandas as pd\n",
    "from datetime import datetime\n",
    "import locale"
   ]
  },
  {
   "cell_type": "code",
   "execution_count": 12,
   "id": "f6fe7cf9",
   "metadata": {},
   "outputs": [],
   "source": [
    "file_path = \"kungalv_slutpriser.tar.gz\"\n",
    "\n",
    "if file_path.endswith(\"tar.gz\"):\n",
    "    tar = tarfile.open(file_path, \"r:gz\")\n",
    "    tar.extractall()\n",
    "    tar.close()\n",
    "elif file_path.endswith(\"tar\"):\n",
    "    tar = tarfile.open(file_path, \"r:\")\n",
    "    tar.extractall()\n",
    "    tar.close()\n",
    "\n"
   ]
  },
  {
   "cell_type": "code",
   "execution_count": 35,
   "id": "ea434963",
   "metadata": {},
   "outputs": [],
   "source": [
    "# Helper Functions\n",
    "def clean_date(date):\n",
    "    locale.setlocale(locale.LC_ALL, 'sv_SE')\n",
    "    datetime_object = datetime.strptime(date, '%d %B %Y')\n",
    "    return datetime_object.strftime(\"%Y-%m-%d\")\n",
    "\n"
   ]
  },
  {
   "cell_type": "code",
   "execution_count": 101,
   "id": "dc0a1faa",
   "metadata": {},
   "outputs": [
    {
     "name": "stdout",
     "output_type": "stream",
     "text": [
      "2023-10-09\n",
      "2023-10-05\n",
      "2023-10-03\n",
      "2023-10-02\n",
      "2023-09-27\n",
      "2023-09-26\n",
      "2023-09-25\n",
      "2023-09-22\n",
      "2023-09-17\n",
      "2023-09-17\n",
      "2023-09-15\n",
      "2023-09-15\n",
      "2023-09-13\n",
      "2023-09-07\n",
      "2023-09-06\n",
      "2023-09-05\n",
      "2023-08-31\n",
      "2023-08-31\n",
      "2023-08-30\n",
      "2023-08-29\n",
      "2023-08-24\n",
      "2023-08-23\n",
      "2023-08-23\n",
      "2023-08-16\n",
      "2023-08-16\n",
      "2023-08-15\n",
      "2023-08-09\n",
      "2023-08-08\n",
      "2023-08-04\n",
      "2023-07-28\n",
      "2023-07-17\n",
      "2023-07-17\n",
      "2023-07-13\n",
      "2023-07-13\n",
      "2023-07-11\n",
      "2023-07-07\n",
      "2023-07-06\n",
      "2023-07-06\n",
      "2023-07-04\n",
      "2023-07-04\n",
      "2023-07-04\n",
      "2023-07-03\n",
      "2023-07-02\n",
      "2023-06-30\n",
      "2023-06-30\n",
      "2023-06-29\n",
      "2023-06-28\n",
      "2023-06-22\n",
      "2023-06-21\n",
      "2023-06-21\n"
     ]
    }
   ],
   "source": [
    "\n",
    "with open(\"kungalv_slutpriser/kungalv_slutpris_page_01.html\") as fp:\n",
    "    soup = BeautifulSoup(fp, 'html.parser')\n",
    "\n",
    "# date of sale\n",
    "listings = soup.findAll('li', class_ = 'sold-results__normal-hit')\n",
    "\n",
    "for listing in listings:\n",
    "    listing_soup = BeautifulSoup(str(listing), 'html.parser')\n",
    "\n",
    "    area = listing_soup.find('div', {'class' : 'sold-property-listing__subheading sold-property-listing__area'}).text.strip()\n",
    "    # TO DO PRITISH: Works but needs regex implementation\n",
    "    dateofsale = clean_date(listing_soup.find('span', {'class' : 'hcl-label hcl-label--state hcl-label--sold-at'}).text.strip()[4:].strip())\n",
    "    \n",
    "    \n",
    "    # address = soup.find_all()('h2', {'class' : 'sold-property-listing__heading qa-selling-price-title hcl-card__title'})\n",
    "    # location = soup.find('span', {'class' : 'property-icon property-icon--result'})\n",
    "    # listingarea = soup.find('div', {'class' : 'sold-property-listing__subheading sold-property-listing__area'})\n",
    "    # plotarea = soup.find('div', {'class' : 'sold-property-listing__land-area'})\n",
    "    # closingprice = soup.find('hcl-text hcl-text--medium')\n",
    "    # #daate = print(dateofsale.get_text().strip()[4:])\n",
    "    # print(address[0])\n",
    "    \n",
    "\n",
    "\n",
    "    \n",
    "#address\n",
    "    \n",
    "#location\n",
    "    \n",
    "#area in the form (boarea + biarea)\n",
    "\n",
    "#number of rooms\n",
    "    \n",
    "#area of the plot\n",
    "    \n",
    "\n",
    "#closing price\n"
   ]
  }
 ],
 "metadata": {
  "kernelspec": {
   "display_name": "Python 3 (ipykernel)",
   "language": "python",
   "name": "python3"
  },
  "language_info": {
   "codemirror_mode": {
    "name": "ipython",
    "version": 3
   },
   "file_extension": ".py",
   "mimetype": "text/x-python",
   "name": "python",
   "nbconvert_exporter": "python",
   "pygments_lexer": "ipython3",
   "version": "3.11.7"
  }
 },
 "nbformat": 4,
 "nbformat_minor": 5
}
