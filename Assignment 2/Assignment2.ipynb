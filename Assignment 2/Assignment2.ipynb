{
 "cells": [
  {
   "cell_type": "markdown",
   "id": "33dc4e06",
   "metadata": {},
   "source": [
    "# Assignment 2"
   ]
  },
  {
   "cell_type": "code",
   "execution_count": 11,
   "id": "684c444a-4629-458b-93b5-08ad7e9dd5e6",
   "metadata": {},
   "outputs": [],
   "source": [
    "\n",
    "# Import necessary packages\n",
    "import tarfile\n",
    "import os\n",
    "from bs4 import BeautifulSoup\n",
    "import pandas as pd\n"
   ]
  },
  {
   "cell_type": "code",
   "execution_count": 12,
   "id": "f6fe7cf9",
   "metadata": {},
   "outputs": [],
   "source": [
    "file_path = \"kungalv_slutpriser.tar.gz\"\n",
    "\n",
    "if file_path.endswith(\"tar.gz\"):\n",
    "    tar = tarfile.open(file_path, \"r:gz\")\n",
    "    tar.extractall()\n",
    "    tar.close()\n",
    "elif file_path.endswith(\"tar\"):\n",
    "    tar = tarfile.open(file_path, \"r:\")\n",
    "    tar.extractall()\n",
    "    tar.close()\n",
    "\n"
   ]
  },
  {
   "cell_type": "code",
   "execution_count": 15,
   "id": "dc0a1faa",
   "metadata": {},
   "outputs": [
    {
     "name": "stdout",
     "output_type": "stream",
     "text": [
      "\n",
      "Såld 9 oktober 2023\n",
      "          \n",
      "\n",
      "\n",
      "\n",
      "\n",
      "\n",
      "\n",
      "\n",
      "          Skårby station 350\n",
      "        \n",
      "\n",
      "VillaVilla\n",
      "\n",
      "            Kareby,\n",
      "          Kungälvs kommun\n",
      "        \n",
      "\n",
      "\n",
      "\n",
      "\n",
      "\n",
      "                  143\n",
      "                  \n",
      "                    + 25 m²\n",
      "                  \n",
      "               \n",
      "                7 rum\n",
      "            \n",
      "\n",
      "                2 303 m² tomt\n",
      "              \n",
      "\n",
      "\n",
      "\n",
      "\n",
      "\n",
      "\n",
      "                    Balkong\n",
      "                  \n",
      "\n",
      "\n",
      "\n",
      "                    Uteplats\n",
      "                  \n",
      "\n",
      "\n",
      "\n",
      "\n",
      "\n",
      "\n",
      "\n",
      "\n",
      "              Slutpris 3 005 000 kr\n",
      "            \n",
      "\n",
      "                ±0 %\n",
      "\n"
     ]
    }
   ],
   "source": [
    "\n",
    "with open(\"kungalv_slutpriser/kungalv_slutpris_page_01.html\") as fp:\n",
    "    soup = BeautifulSoup(fp, 'html.parser')\n",
    "\n",
    "# date of sale\n",
    "listings = soup.find_all('li', {'class' : 'sold-results__normal-hit'})\n",
    "\n",
    "for listing in listings[0]:\n",
    "    print(listing.get_text().strip())\n",
    "    daate = print(dateofsale.get_text().strip()[4:])\n",
    "\n",
    "\n",
    "    \n",
    "#address\n",
    "    \n",
    "#location\n",
    "    \n",
    "#area in the form (boarea + biarea)\n",
    "\n",
    "#number of rooms\n",
    "    \n",
    "#area of the plot\n",
    "    \n",
    "\n",
    "#closing price\n"
   ]
  }
 ],
 "metadata": {
  "kernelspec": {
   "display_name": "Python 3 (ipykernel)",
   "language": "python",
   "name": "python3"
  },
  "language_info": {
   "codemirror_mode": {
    "name": "ipython",
    "version": 3
   },
   "file_extension": ".py",
   "mimetype": "text/x-python",
   "name": "python",
   "nbconvert_exporter": "python",
   "pygments_lexer": "ipython3",
   "version": "3.11.7"
  }
 },
 "nbformat": 4,
 "nbformat_minor": 5
}
