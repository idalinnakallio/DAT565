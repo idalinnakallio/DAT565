{
 "cells": [
  {
   "cell_type": "markdown",
   "id": "33dc4e06",
   "metadata": {},
   "source": [
    "# Assignment 2"
   ]
  },
  {
   "cell_type": "code",
   "execution_count": 2,
   "id": "684c444a-4629-458b-93b5-08ad7e9dd5e6",
   "metadata": {},
   "outputs": [],
   "source": [
    "\n",
    "# Import necessary packages\n",
    "import tarfile\n",
    "import os\n",
    "from bs4 import BeautifulSoup\n",
    "import pandas as pd\n",
    "from datetime import datetime\n",
    "import locale"
   ]
  },
  {
   "cell_type": "code",
   "execution_count": 12,
   "id": "f6fe7cf9",
   "metadata": {},
   "outputs": [],
   "source": [
    "file_path = \"kungalv_slutpriser.tar.gz\"\n",
    "\n",
    "if file_path.endswith(\"tar.gz\"):\n",
    "    tar = tarfile.open(file_path, \"r:gz\")\n",
    "    tar.extractall()\n",
    "    tar.close()\n",
    "elif file_path.endswith(\"tar\"):\n",
    "    tar = tarfile.open(file_path, \"r:\")\n",
    "    tar.extractall()\n",
    "    tar.close()\n",
    "\n"
   ]
  },
  {
   "cell_type": "code",
   "execution_count": 3,
   "id": "ea434963",
   "metadata": {},
   "outputs": [],
   "source": [
    "# Helper Functions\n",
    "def clean_date(date):\n",
    "    locale.setlocale(locale.LC_ALL, 'sv_SE')\n",
    "    datetime_object = datetime.strptime(date, '%d %B %Y')\n",
    "    return datetime_object.strftime(\"%Y-%m-%d\")\n",
    "\n"
   ]
  },
  {
   "cell_type": "code",
   "execution_count": 52,
   "id": "dc0a1faa",
   "metadata": {},
   "outputs": [
    {
     "name": "stdout",
     "output_type": "stream",
     "text": [
      "[168, 7, '2023-10-09', 'Skårby station 350', 'Kareby, Kungälvs kommun', '2\\xa0303\\xa0m² tomt', 'Slutpris 3\\xa0005\\xa0000\\xa0kr']\n",
      "[206, 5, '2023-10-05', 'Högalidsgatan 3', 'Centrum, Kungälvs kommun', '862\\xa0m² tomt', 'Slutpris 3\\xa0800\\xa0000\\xa0kr']\n",
      "[123, 5, '2023-10-03', 'Kungälvsvägen 22', 'Centralt, Kungälvs kommun', '1\\xa0548\\xa0m² tomt', 'Slutpris 4\\xa0500\\xa0000\\xa0kr']\n",
      "[123, 6, '2023-10-02', 'Ädelstensvägen 58', 'Kode, Kungälvs kommun', '379\\xa0m² tomt', 'Slutpris 4\\xa0075\\xa0000\\xa0kr']\n",
      "[166, 6, '2023-09-27', 'Kantorvägen 4', 'Bohuslän, Kungälvs kommun', '558\\xa0m² tomt', 'Slutpris 3\\xa0625\\xa0000\\xa0kr']\n",
      "[123, 5, '2023-09-26', 'Diamantvägen 34', 'Kode, Kungälvs kommun', '559\\xa0m² tomt', 'Slutpris 2\\xa0900\\xa0000\\xa0kr']\n",
      "[126, 4, '2023-09-25', 'Tjäderstigen 8', 'Centralt, Kungälvs kommun', '362\\xa0m² tomt', 'Slutpris 4\\xa0760\\xa0000\\xa0kr']\n",
      "[195, 6, '2023-09-22', 'Heavägen 31', 'Lycke, Kungälvs kommun', '1\\xa0553\\xa0m² tomt', 'Slutpris 5\\xa0450\\xa0000\\xa0kr']\n",
      "[145, 5, '2023-09-17', 'Beryllvägen 14', 'Kode, Kungälvs kommun', '434\\xa0m² tomt', 'Slutpris 3\\xa0900\\xa0000\\xa0kr']\n",
      "[141, 5, '2023-09-17', 'Kornhall 290', 'Kornhall, Kungälvs kommun', '1\\xa0706\\xa0m² tomt', 'Slutpris 6\\xa0100\\xa0000\\xa0kr']\n",
      "[124, 4, '2023-09-15', 'Grindbacken 18', 'Grinden, Kungälvs kommun', '932\\xa0m² tomt', 'Slutpris 7\\xa0350\\xa0000\\xa0kr']\n",
      "[112, 4, '2023-09-15', 'Korpvägen 273', 'Ullstorp, Kungälvs kommun', '480\\xa0m² tomt', 'Slutpris 5\\xa0050\\xa0000\\xa0kr']\n",
      "[330, 5, '2023-09-13', 'Kristiansborg 300', 'Bohuslän, Kungälvs kommun', '3\\xa0121\\xa0m² tomt', 'Slutpris 5\\xa0350\\xa0000\\xa0kr']\n",
      "[133, 4, '2023-09-07', 'Glöskär 255', 'Kärna, Kungälvs kommun', '2\\xa0062\\xa0m² tomt', 'Slutpris 3\\xa0520\\xa0000\\xa0kr']\n",
      "[129, 4, '2023-09-06', 'Nolby 150', 'Kode, Kungälvs kommun', '1\\xa0724\\xa0m² tomt', 'Slutpris 4\\xa0100\\xa0000\\xa0kr']\n",
      "[122, 2, '2023-09-05', 'Skårby station 452', 'Kareby, Kungälvs kommun', '2\\xa0963\\xa0m² tomt', 'Slutpris 4\\xa0395\\xa0000\\xa0kr']\n",
      "[39, 3, '2023-08-31', 'Snäckvägen 11', 'Kode, Kungälvs kommun', '1\\xa0593\\xa0m² tomt', 'Slutpris 2\\xa0150\\xa0000\\xa0kr']\n",
      "[137, 5, '2023-08-31', 'Klockarvägen 1', 'Bohuslän, Kungälvs kommun', '884\\xa0m² tomt', 'Slutpris 3\\xa0000\\xa0000\\xa0kr']\n",
      "[86, 3, '2023-08-30', 'Lilla Fjellsholmen 35', 'Vedhall, Kungälvs kommun', '427\\xa0m² tomt', 'Slutpris 10\\xa0000\\xa0000\\xa0kr']\n",
      "[171, 5, '2023-08-29', 'Västra Röd 165', 'Kärna, Kungälvs kommun', '2\\xa0263\\xa0m² tomt', 'Slutpris 5\\xa0995\\xa0000\\xa0kr']\n",
      "[123, 5, '2023-08-24', 'Snorregatan 3B', 'Komarken, Kungälvs kommun', '342\\xa0m² tomt', 'Slutpris 4\\xa0225\\xa0000\\xa0kr']\n",
      "[176, 5, '2023-08-23', 'Jägarvägen 13', 'Romelanda, Kungälvs kommun', '569\\xa0m² tomt', 'Slutpris 3\\xa0900\\xa0000\\xa0kr']\n",
      "[140, 5, '2023-08-23', 'Rosenstensvägen 2', 'Kungälv, Kungälvs kommun', '673\\xa0m² tomt', 'Slutpris 4\\xa0800\\xa0000\\xa0kr']\n",
      "[135, 6, '2023-08-16', 'Tröskvägen 260', 'Ullstorp, Kungälvs kommun', '410\\xa0m² tomt', 'Slutpris 5\\xa0600\\xa0000\\xa0kr']\n",
      "[116, 5, '2023-08-16', 'Stora Lycke 400', 'Bohuslän, Kungälvs kommun', '761\\xa0m² tomt', 'Slutpris 3\\xa0650\\xa0000\\xa0kr']\n",
      "[49, 3, '2023-08-15', 'Dösebacka 410', 'Romelanda, Kungälvs kommun', '5\\xa0960\\xa0m² tomt', 'Slutpris 2\\xa0300\\xa0000\\xa0kr']\n",
      "[210, 7, '2023-08-09', 'Mantalsgatan 9', 'Tega, Kungälvs kommun', '1\\xa0105\\xa0m² tomt', 'Slutpris 4\\xa0725\\xa0000\\xa0kr']\n",
      "[198, 4, '2023-08-08', 'Skälebräckeliden 9', 'Centrum, Kungälvs kommun', '1\\xa0608\\xa0m² tomt', 'Slutpris 6\\xa0275\\xa0000\\xa0kr']\n",
      "[41, 3, '2023-08-04', 'Norrmannebo 700', 'Romelanda, Kungälvs kommun', '1\\xa0182\\xa0m² tomt', 'Slutpris 1\\xa0000\\xa0000\\xa0kr']\n",
      "[137, 6, '2023-07-28', 'Bokvägen 14', 'Fontin, centrum, Kungälvs kommun', '828\\xa0m² tomt', 'Slutpris 5\\xa0100\\xa0000\\xa0kr']\n",
      "[158, 5, '2023-07-17', 'Duvesjön 228', 'Romelanda, Kungälvs kommun', '1\\xa0150\\xa0m² tomt', 'Slutpris 4\\xa0195\\xa0000\\xa0kr']\n",
      "[174, 5, '2023-07-17', 'Klintegatan 22', 'Centralt, Kungälvs kommun', '999\\xa0m² tomt', 'Slutpris 6\\xa0500\\xa0000\\xa0kr']\n",
      "[163, 5, '2023-07-13', 'Galärgatan 2', 'Kungälv Centrum, Kungälvs kommun', '749\\xa0m² tomt', 'Slutpris 4\\xa0300\\xa0000\\xa0kr']\n",
      "[173, 5, '2023-07-13', 'Ulvebackegatan 3', 'Munkegärde, Kungälvs kommun', '927\\xa0m² tomt', 'Slutpris 4\\xa0850\\xa0000\\xa0kr']\n",
      "[138, 4, '2023-07-11', 'Vråstigen 4', 'Överön, Kungälvs kommun', '2\\xa0619\\xa0m² tomt', 'Slutpris 3\\xa0775\\xa0000\\xa0kr']\n",
      "[69, 4, '2023-07-07', 'Bergsvägen 11', 'Rörtången/ Ödsmålsmosse, Kungälvs kommun', '934\\xa0m² tomt', 'Slutpris 2\\xa0000\\xa0000\\xa0kr']\n",
      "[166, 6, '2023-07-06', 'Lundby 509', 'Kareby, Kungälvs kommun', '1\\xa0933\\xa0m² tomt', 'Slutpris 4\\xa0900\\xa0000\\xa0kr']\n",
      "[138, 4, '2023-07-06', 'Kastellegårdsgatan 29', 'Komarken, Kungälvs kommun', '1\\xa0033\\xa0m² tomt', 'Slutpris 5\\xa0200\\xa0000\\xa0kr']\n",
      "[156, 4, '2023-07-04', 'Sparråsvägen 140', 'Kungälv - Ytterby, Kungälvs kommun', '961\\xa0m² tomt', 'Slutpris 3\\xa0850\\xa0000\\xa0kr']\n",
      "[199, 5, '2023-07-04', 'Dammen 160', 'Kärna, Kungälvs kommun', '3\\xa0234\\xa0m² tomt', 'Slutpris 3\\xa0450\\xa0000\\xa0kr']\n",
      "[112, 4, '2023-07-04', 'Önneröd 220', 'Kärna, Kungälvs kommun', '2\\xa0032\\xa0m² tomt', 'Slutpris 4\\xa0200\\xa0000\\xa0kr']\n",
      "[245, 4, '2023-07-03', 'Tulpanvägen 15', 'Kärna, Kungälvs kommun', '914\\xa0m² tomt', 'Slutpris 3\\xa0900\\xa0000\\xa0kr']\n",
      "[195, 7, '2023-07-02', 'Rubinvägen 19', 'Kode, Kungälvs kommun', '937\\xa0m² tomt', 'Slutpris 5\\xa0050\\xa0000\\xa0kr']\n",
      "[200, 5, '2023-06-30', 'Gårdskiftegatan 5', 'Ytterby, Kungälvs kommun', '806\\xa0m² tomt', 'Slutpris 5\\xa0250\\xa0000\\xa0kr']\n",
      "[224, 7, '2023-06-30', 'Norrmannebo 270', 'Romelanda, Kungälvs kommun, Kungälvs kommun', '1\\xa0400\\xa0m² tomt', 'Slutpris 4\\xa0300\\xa0000\\xa0kr']\n",
      "[117, 3, '2023-06-29', 'Dösebacka 120', 'Romelanda, Kungälvs kommun', '3\\xa0824\\xa0m² tomt', 'Slutpris 2\\xa0960\\xa0000\\xa0kr']\n",
      "[254, 7, '2023-06-28', 'Kärnavägen 16', 'Kärna, Kungälvs kommun', '695\\xa0m² tomt', 'Slutpris 4\\xa0300\\xa0000\\xa0kr']\n",
      "[207, 4, '2023-06-22', 'Torp 250', 'Kareby, Kungälvs kommun', '1\\xa0608\\xa0m² tomt', 'Slutpris 3\\xa0950\\xa0000\\xa0kr']\n",
      "[157, 4, '2023-06-21', 'Korpvägen 279', 'Ullstorp, Kungälvs kommun', '522\\xa0m² tomt', 'Slutpris 5\\xa0850\\xa0000\\xa0kr']\n",
      "[136, 5, '2023-06-21', 'Västra gatan 48', 'Kungälv - Centralt, Kungälvs kommun', '937\\xa0m² tomt', 'Slutpris 6\\xa0500\\xa0000\\xa0kr']\n"
     ]
    }
   ],
   "source": [
    "import re \n",
    "with open(\"kungalv_slutpriser/kungalv_slutpris_page_01.html\") as fp:\n",
    "    soup = BeautifulSoup(fp, 'html.parser')\n",
    "\n",
    "# date of sale\n",
    "listings = soup.findAll('li', class_ = 'sold-results__normal-hit')\n",
    "\n",
    "listing_elements = []\n",
    "for listing in listings:\n",
    "    listing_soup = BeautifulSoup(str(listing), 'html.parser')\n",
    "\n",
    "    area = listing_soup.find('div', {'class' : 'sold-property-listing__subheading sold-property-listing__area'}).text.strip()\n",
    "    # TO DO PRITISH: Works but needs regex implementation\n",
    "    area = re.sub(r'\\s', ' ', area.strip())\n",
    "    arealist = re.findall(r'\\d+', area)\n",
    "\n",
    "    if len(arealist) == 3:\n",
    "        boarea = int(arealist[0])\n",
    "        biarea = int(arealist[1])\n",
    "        rooms = int(arealist[2])\n",
    "        livingarea = boarea + biarea\n",
    "    elif len(arealist) == 2:\n",
    "        livingarea = int(arealist[0])\n",
    "        rooms = int(arealist[1])\n",
    "\n",
    "    date = listing_soup.find('span', {'class' : 'hcl-label hcl-label--state hcl-label--sold-at'}).text.strip()\n",
    "    match = re.search(r'\\d', date)  # Search for the first number\n",
    "    date_of_sale = clean_date((date[match.start():]))\n",
    "    address = listing_soup.find('h2', {'class' : 'sold-property-listing__heading qa-selling-price-title hcl-card__title'}).text.strip()\n",
    "    location = listing_soup.find('div', {'class' : 'sold-property-listing__location'}).text\n",
    "    location = re.sub(r'\\s+', ' ', location.split(\"VillaVilla\")[1].strip())\n",
    "    listingarea = listing_soup.find('div', {'class' : 'sold-property-listing__subheading sold-property-listing__area'}).text.strip()\n",
    "    plotarea = listing_soup.find('div', {'class' : 'sold-property-listing__land-area'}).text.strip()\n",
    "    closingprice = listing_soup.find('span',{'class' : 'hcl-text hcl-text--medium'}).text.strip()\n",
    "   # print(area, dateofsale, address, location, listingarea, plotarea, closingprice)\n",
    "    \n",
    "    # Append the attributes for each listing to a list\n",
    "    listing_info = [livingarea, rooms, date_of_sale, address, location, plotarea, closingprice]\n",
    "    \n",
    "    # Append the list of attributes to the overall list of listings\n",
    "    listing_elements.append(listing_info)\n",
    "print(*listing_elements,sep = \"\\n\")\n",
    "\n",
    "\n",
    "\n",
    " "
   ]
  },
  {
   "cell_type": "markdown",
   "id": "dc5ac3f1",
   "metadata": {},
   "source": []
  },
  {
   "cell_type": "code",
   "execution_count": null,
   "id": "dfd847a1",
   "metadata": {},
   "outputs": [],
   "source": [
    "   \n",
    "\n",
    "    \n",
    "#address\n",
    "    \n",
    "#location\n",
    "    \n",
    "#area in the form (boarea + biarea)\n",
    "\n",
    "#number of rooms\n",
    "    \n",
    "#area of the plot\n",
    "    \n",
    "\n",
    "#closing price\n"
   ]
  }
 ],
 "metadata": {
  "kernelspec": {
   "display_name": "Python 3 (ipykernel)",
   "language": "python",
   "name": "python3"
  },
  "language_info": {
   "codemirror_mode": {
    "name": "ipython",
    "version": 3
   },
   "file_extension": ".py",
   "mimetype": "text/x-python",
   "name": "python",
   "nbconvert_exporter": "python",
   "pygments_lexer": "ipython3",
   "version": "3.11.7"
  }
 },
 "nbformat": 4,
 "nbformat_minor": 5
}
