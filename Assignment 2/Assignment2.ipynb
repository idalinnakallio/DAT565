{
 "cells": [
  {
   "cell_type": "markdown",
   "id": "33dc4e06",
   "metadata": {},
   "source": [
    "# Assignment 2"
   ]
  },
  {
   "cell_type": "code",
   "execution_count": 2,
   "id": "684c444a-4629-458b-93b5-08ad7e9dd5e6",
   "metadata": {},
   "outputs": [],
   "source": [
    "\n",
    "# Import necessary packages\n",
    "import tarfile\n",
    "import os\n",
    "from bs4 import BeautifulSoup\n",
    "import pandas as pd\n",
    "from datetime import datetime\n",
    "import locale"
   ]
  },
  {
   "cell_type": "code",
   "execution_count": 12,
   "id": "f6fe7cf9",
   "metadata": {},
   "outputs": [],
   "source": [
    "file_path = \"kungalv_slutpriser.tar.gz\"\n",
    "\n",
    "if file_path.endswith(\"tar.gz\"):\n",
    "    tar = tarfile.open(file_path, \"r:gz\")\n",
    "    tar.extractall()\n",
    "    tar.close()\n",
    "elif file_path.endswith(\"tar\"):\n",
    "    tar = tarfile.open(file_path, \"r:\")\n",
    "    tar.extractall()\n",
    "    tar.close()\n",
    "\n"
   ]
  },
  {
   "cell_type": "code",
   "execution_count": 3,
   "id": "ea434963",
   "metadata": {},
   "outputs": [],
   "source": [
    "# Helper Functions\n",
    "def clean_date(date):\n",
    "    locale.setlocale(locale.LC_ALL, 'sv_SE')\n",
    "    datetime_object = datetime.strptime(date, '%d %B %Y')\n",
    "    return datetime_object.strftime(\"%Y-%m-%d\")\n",
    "\n"
   ]
  },
  {
   "cell_type": "code",
   "execution_count": 67,
   "id": "dc0a1faa",
   "metadata": {},
   "outputs": [
    {
     "name": "stdout",
     "output_type": "stream",
     "text": [
      "<class 'pandas.core.frame.DataFrame'>\n",
      "RangeIndex: 50 entries, 0 to 49\n",
      "Data columns (total 7 columns):\n",
      " #   Column        Non-Null Count  Dtype \n",
      "---  ------        --------------  ----- \n",
      " 0   date of sale  50 non-null     object\n",
      " 1   address       50 non-null     object\n",
      " 2   location      50 non-null     object\n",
      " 3   livingarea    50 non-null     int64 \n",
      " 4   rooms         50 non-null     int64 \n",
      " 5   plotarea      50 non-null     int64 \n",
      " 6   closingprice  50 non-null     int64 \n",
      "dtypes: int64(4), object(3)\n",
      "memory usage: 2.9+ KB\n"
     ]
    }
   ],
   "source": [
    "import re \n",
    "\n",
    "\n",
    "\n",
    "with open(\"kungalv_slutpriser/kungalv_slutpris_page_01.html\") as fp:\n",
    "    soup = BeautifulSoup(fp, 'html.parser')\n",
    "\n",
    "# date of sale\n",
    "listings = soup.findAll('li', class_ = 'sold-results__normal-hit')\n",
    "\n",
    "listing_elements = []\n",
    "for listing in listings:\n",
    "    listing_soup = BeautifulSoup(str(listing), 'html.parser')\n",
    "\n",
    "    area = listing_soup.find('div', {'class' : 'sold-property-listing__subheading sold-property-listing__area'}).text.strip()\n",
    "    # TO DO PRITISH: Works but needs regex implementation\n",
    "    area = re.sub(r'\\s', ' ', area.strip())\n",
    "    arealist = re.findall(r'\\d+', area)\n",
    "\n",
    "    if len(arealist) == 3:\n",
    "        boarea = int(arealist[0])\n",
    "        biarea = int(arealist[1])\n",
    "        rooms = int(arealist[2])\n",
    "        livingarea = boarea+biarea\n",
    "    elif len(arealist) == 2:\n",
    "        livingarea = int(arealist[0])\n",
    "        rooms = int(arealist[1])\n",
    "\n",
    "\n",
    "    date = listing_soup.find('span', {'class' : 'hcl-label hcl-label--state hcl-label--sold-at'}).text.strip()\n",
    "   \n",
    "    match = re.search(r'\\d', date)  # Search for the first number\n",
    "   \n",
    "    date_of_sale = clean_date((date[match.start():]))\n",
    "    \n",
    "    address = listing_soup.find('h2', {'class' : 'sold-property-listing__heading qa-selling-price-title hcl-card__title'}).text.strip()\n",
    "    \n",
    "    location = listing_soup.find('div', {'class' : 'sold-property-listing__location'}).text\n",
    "    location = re.sub(r'\\s+', ' ', location.split(\"VillaVilla\")[1].strip())\n",
    "    \n",
    "    listingarea = listing_soup.find('div', {'class' : 'sold-property-listing__subheading sold-property-listing__area'}).text.strip()\n",
    "    \n",
    "    plotarea = listing_soup.find('div', {'class' : 'sold-property-listing__land-area'}).text.strip()\n",
    "    plotarea = int(\"\".join(map(str,re.findall(r'\\b\\d+\\b', plotarea))))\n",
    "\n",
    "    closingprice = listing_soup.find('span',{'class' : 'hcl-text hcl-text--medium'}).text.strip()\n",
    "    closingprice = int(\"\".join(map(str,re.findall(r'\\b\\d+\\b', closingprice))))\n",
    "   # print(area, dateofsale, address, location, listingarea, plotarea, closingprice)\n",
    "    \n",
    "    # Append the attributes for each listing to a list\n",
    "    listing_info = [date_of_sale, address, location, livingarea, rooms, plotarea, closingprice]\n",
    "    \n",
    "    # Append the list of attributes to the overall list of listings\n",
    "    listing_elements.append(listing_info)\n",
    "    \n",
    "#print(*listing_elements,sep = \"\\n\")\n",
    "\n",
    "df = pd.DataFrame(listing_elements, columns=(('date of sale', 'address','location','livingarea','rooms','plotarea','closingprice')))\n",
    "df.info()\n",
    " "
   ]
  },
  {
   "cell_type": "markdown",
   "id": "dc5ac3f1",
   "metadata": {},
   "source": []
  },
  {
   "cell_type": "code",
   "execution_count": null,
   "id": "dfd847a1",
   "metadata": {},
   "outputs": [],
   "source": [
    "   \n",
    "\n",
    "    \n",
    "#address\n",
    "    \n",
    "#location\n",
    "    \n",
    "#area in the form (boarea + biarea)\n",
    "\n",
    "#number of rooms\n",
    "    \n",
    "#area of the plot\n",
    "    \n",
    "\n",
    "#closing price\n"
   ]
  }
 ],
 "metadata": {
  "kernelspec": {
   "display_name": "Python 3 (ipykernel)",
   "language": "python",
   "name": "python3"
  },
  "language_info": {
   "codemirror_mode": {
    "name": "ipython",
    "version": 3
   },
   "file_extension": ".py",
   "mimetype": "text/x-python",
   "name": "python",
   "nbconvert_exporter": "python",
   "pygments_lexer": "ipython3",
   "version": "3.11.7"
  }
 },
 "nbformat": 4,
 "nbformat_minor": 5
}
