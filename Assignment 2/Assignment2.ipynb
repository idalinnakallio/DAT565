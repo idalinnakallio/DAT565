{
 "cells": [
  {
   "cell_type": "markdown",
   "id": "33dc4e06",
   "metadata": {},
   "source": [
    "# Assignment 2"
   ]
  },
  {
   "cell_type": "code",
   "execution_count": 2,
   "id": "684c444a-4629-458b-93b5-08ad7e9dd5e6",
   "metadata": {},
   "outputs": [],
   "source": [
    "\n",
    "# Import necessary packages\n",
    "import tarfile\n",
    "import os\n",
    "from bs4 import BeautifulSoup\n",
    "import pandas as pd\n",
    "from datetime import datetime\n",
    "import locale"
   ]
  },
  {
   "cell_type": "code",
   "execution_count": 12,
   "id": "f6fe7cf9",
   "metadata": {},
   "outputs": [],
   "source": [
    "file_path = \"kungalv_slutpriser.tar.gz\"\n",
    "\n",
    "if file_path.endswith(\"tar.gz\"):\n",
    "    tar = tarfile.open(file_path, \"r:gz\")\n",
    "    tar.extractall()\n",
    "    tar.close()\n",
    "elif file_path.endswith(\"tar\"):\n",
    "    tar = tarfile.open(file_path, \"r:\")\n",
    "    tar.extractall()\n",
    "    tar.close()\n",
    "\n"
   ]
  },
  {
   "cell_type": "code",
   "execution_count": 3,
   "id": "ea434963",
   "metadata": {},
   "outputs": [],
   "source": [
    "# Helper Functions\n",
    "def clean_date(date):\n",
    "    locale.setlocale(locale.LC_ALL, 'sv_SE')\n",
    "    datetime_object = datetime.strptime(date, '%d %B %Y')\n",
    "    return datetime_object.strftime(\"%Y-%m-%d\")\n",
    "\n"
   ]
  },
  {
   "cell_type": "code",
   "execution_count": 20,
   "id": "dc0a1faa",
   "metadata": {},
   "outputs": [
    {
     "name": "stdout",
     "output_type": "stream",
     "text": [
      "[['143\\n                  \\n                    + 25\\xa0m²\\n                  \\n              \\xa0\\n                7\\xa0rum', '2023-10-09', 'Skårby station 350', 'VillaVilla', '2\\xa0303\\xa0m² tomt', 'Slutpris 3\\xa0005\\xa0000\\xa0kr'], ['103\\n                  \\n                    + 103\\xa0m²\\n                  \\n              \\xa0\\n                5\\xa0rum', '2023-10-05', 'Högalidsgatan 3', 'VillaVilla', '862\\xa0m² tomt', 'Slutpris 3\\xa0800\\xa0000\\xa0kr'], ['77\\n                  \\n                    + 46\\xa0m²\\n                  \\n              \\xa0\\n                5\\xa0rum', '2023-10-03', 'Kungälvsvägen 22', 'VillaVilla', '1\\xa0548\\xa0m² tomt', 'Slutpris 4\\xa0500\\xa0000\\xa0kr'], ['123\\xa0m²\\n              \\xa0\\n                6\\xa0rum', '2023-10-02', 'Ädelstensvägen 58', 'VillaVilla', '379\\xa0m² tomt', 'Slutpris 4\\xa0075\\xa0000\\xa0kr'], ['166\\xa0m²\\n              \\xa0\\n                6\\xa0rum', '2023-09-27', 'Kantorvägen 4', 'VillaVilla', '558\\xa0m² tomt', 'Slutpris 3\\xa0625\\xa0000\\xa0kr'], ['123\\xa0m²\\n              \\xa0\\n                5\\xa0rum', '2023-09-26', 'Diamantvägen 34', 'VillaVilla', '559\\xa0m² tomt', 'Slutpris 2\\xa0900\\xa0000\\xa0kr'], ['126\\xa0m²\\n              \\xa0\\n                4\\xa0rum', '2023-09-25', 'Tjäderstigen 8', 'VillaVilla', '362\\xa0m² tomt', 'Slutpris 4\\xa0760\\xa0000\\xa0kr'], ['165\\n                  \\n                    + 30\\xa0m²\\n                  \\n              \\xa0\\n                6\\xa0rum', '2023-09-22', 'Heavägen 31', 'VillaVilla', '1\\xa0553\\xa0m² tomt', 'Slutpris 5\\xa0450\\xa0000\\xa0kr'], ['145\\xa0m²\\n              \\xa0\\n                5\\xa0rum', '2023-09-17', 'Beryllvägen 14', 'VillaVilla', '434\\xa0m² tomt', 'Slutpris 3\\xa0900\\xa0000\\xa0kr'], ['134\\n                  \\n                    + 7\\xa0m²\\n                  \\n              \\xa0\\n                5\\xa0rum', '2023-09-17', 'Kornhall 290', 'VillaVilla', '1\\xa0706\\xa0m² tomt', 'Slutpris 6\\xa0100\\xa0000\\xa0kr'], ['124\\xa0m²\\n              \\xa0\\n                4\\xa0rum', '2023-09-15', 'Grindbacken 18', 'VillaVilla', '932\\xa0m² tomt', 'Slutpris 7\\xa0350\\xa0000\\xa0kr'], ['112\\xa0m²\\n              \\xa0\\n                4\\xa0rum', '2023-09-15', 'Korpvägen 273', 'VillaVilla', '480\\xa0m² tomt', 'Slutpris 5\\xa0050\\xa0000\\xa0kr'], ['215\\n                  \\n                    + 115\\xa0m²\\n                  \\n              \\xa0\\n                5\\xa0rum', '2023-09-13', 'Kristiansborg 300', 'VillaVilla', '3\\xa0121\\xa0m² tomt', 'Slutpris 5\\xa0350\\xa0000\\xa0kr'], ['111\\n                  \\n                    + 22\\xa0m²\\n                  \\n              \\xa0\\n                4\\xa0rum', '2023-09-07', 'Glöskär 255', 'VillaVilla', '2\\xa0062\\xa0m² tomt', 'Slutpris 3\\xa0520\\xa0000\\xa0kr'], ['129\\xa0m²\\n              \\xa0\\n                4\\xa0rum', '2023-09-06', 'Nolby 150', 'VillaVilla', '1\\xa0724\\xa0m² tomt', 'Slutpris 4\\xa0100\\xa0000\\xa0kr'], ['122\\xa0m²\\n              \\xa0\\n                2\\xa0rum', '2023-09-05', 'Skårby station 452', 'VillaVilla', '2\\xa0963\\xa0m² tomt', 'Slutpris 4\\xa0395\\xa0000\\xa0kr'], ['39\\xa0m²\\n              \\xa0\\n                3\\xa0rum', '2023-08-31', 'Snäckvägen 11', 'VillaVilla', '1\\xa0593\\xa0m² tomt', 'Slutpris 2\\xa0150\\xa0000\\xa0kr'], ['137\\xa0m²\\n              \\xa0\\n                5\\xa0rum', '2023-08-31', 'Klockarvägen 1', 'VillaVilla', '884\\xa0m² tomt', 'Slutpris 3\\xa0000\\xa0000\\xa0kr'], ['86\\xa0m²\\n              \\xa0\\n                3\\xa0rum', '2023-08-30', 'Lilla Fjellsholmen 35', 'VillaVilla', '427\\xa0m² tomt', 'Slutpris 10\\xa0000\\xa0000\\xa0kr'], ['151\\n                  \\n                    + 20\\xa0m²\\n                  \\n              \\xa0\\n                5\\xa0rum', '2023-08-29', 'Västra Röd 165', 'VillaVilla', '2\\xa0263\\xa0m² tomt', 'Slutpris 5\\xa0995\\xa0000\\xa0kr'], ['120\\n                  \\n                    + 3\\xa0m²\\n                  \\n              \\xa0\\n                5\\xa0rum', '2023-08-24', 'Snorregatan 3B', 'VillaVilla', '342\\xa0m² tomt', 'Slutpris 4\\xa0225\\xa0000\\xa0kr'], ['162\\n                  \\n                    + 14\\xa0m²\\n                  \\n              \\xa0\\n                5\\xa0rum', '2023-08-23', 'Jägarvägen 13', 'VillaVilla', '569\\xa0m² tomt', 'Slutpris 3\\xa0900\\xa0000\\xa0kr'], ['140\\xa0m²\\n              \\xa0\\n                5\\xa0rum', '2023-08-23', 'Rosenstensvägen 2', 'VillaVilla', '673\\xa0m² tomt', 'Slutpris 4\\xa0800\\xa0000\\xa0kr'], ['135\\xa0m²\\n              \\xa0\\n                6\\xa0rum', '2023-08-16', 'Tröskvägen 260', 'VillaVilla', '410\\xa0m² tomt', 'Slutpris 5\\xa0600\\xa0000\\xa0kr'], ['111\\n                  \\n                    + 5\\xa0m²\\n                  \\n              \\xa0\\n                5\\xa0rum', '2023-08-16', 'Stora Lycke 400', 'VillaVilla', '761\\xa0m² tomt', 'Slutpris 3\\xa0650\\xa0000\\xa0kr'], ['38\\n                  \\n                    + 11\\xa0m²\\n                  \\n              \\xa0\\n                3\\xa0rum', '2023-08-15', 'Dösebacka 410', 'VillaVilla', '5\\xa0960\\xa0m² tomt', 'Slutpris 2\\xa0300\\xa0000\\xa0kr'], ['175\\n                  \\n                    + 35\\xa0m²\\n                  \\n              \\xa0\\n                7\\xa0rum', '2023-08-09', 'Mantalsgatan 9', 'VillaVilla', '1\\xa0105\\xa0m² tomt', 'Slutpris 4\\xa0725\\xa0000\\xa0kr'], ['113\\n                  \\n                    + 85\\xa0m²\\n                  \\n              \\xa0\\n                4\\xa0rum', '2023-08-08', 'Skälebräckeliden 9', 'VillaVilla', '1\\xa0608\\xa0m² tomt', 'Slutpris 6\\xa0275\\xa0000\\xa0kr'], ['41\\xa0m²\\n              \\xa0\\n                3\\xa0rum', '2023-08-04', 'Norrmannebo 700', 'VillaVilla', '1\\xa0182\\xa0m² tomt', 'Slutpris 1\\xa0000\\xa0000\\xa0kr'], ['137\\xa0m²\\n              \\xa0\\n                6\\xa0rum', '2023-07-28', 'Bokvägen 14', 'VillaVilla', '828\\xa0m² tomt', 'Slutpris 5\\xa0100\\xa0000\\xa0kr'], ['121\\n                  \\n                    + 37\\xa0m²\\n                  \\n              \\xa0\\n                5\\xa0rum', '2023-07-17', 'Duvesjön 228', 'VillaVilla', '1\\xa0150\\xa0m² tomt', 'Slutpris 4\\xa0195\\xa0000\\xa0kr'], ['119\\n                  \\n                    + 55\\xa0m²\\n                  \\n              \\xa0\\n                5\\xa0rum', '2023-07-17', 'Klintegatan 22', 'VillaVilla', '999\\xa0m² tomt', 'Slutpris 6\\xa0500\\xa0000\\xa0kr'], ['103\\n                  \\n                    + 60\\xa0m²\\n                  \\n              \\xa0\\n                5\\xa0rum', '2023-07-13', 'Galärgatan 2', 'VillaVilla', '749\\xa0m² tomt', 'Slutpris 4\\xa0300\\xa0000\\xa0kr'], ['129\\n                  \\n                    + 44\\xa0m²\\n                  \\n              \\xa0\\n                5\\xa0rum', '2023-07-13', 'Ulvebackegatan 3', 'VillaVilla', '927\\xa0m² tomt', 'Slutpris 4\\xa0850\\xa0000\\xa0kr'], ['81\\n                  \\n                    + 57\\xa0m²\\n                  \\n              \\xa0\\n                4\\xa0rum', '2023-07-11', 'Vråstigen 4', 'VillaVilla', '2\\xa0619\\xa0m² tomt', 'Slutpris 3\\xa0775\\xa0000\\xa0kr'], ['69\\xa0m²\\n              \\xa0\\n                4\\xa0rum', '2023-07-07', 'Bergsvägen 11', 'VillaVilla', '934\\xa0m² tomt', 'Slutpris 2\\xa0000\\xa0000\\xa0kr'], ['166\\xa0m²\\n              \\xa0\\n                6\\xa0rum', '2023-07-06', 'Lundby 509', 'VillaVilla', '1\\xa0933\\xa0m² tomt', 'Slutpris 4\\xa0900\\xa0000\\xa0kr'], ['122\\n                  \\n                    + 16\\xa0m²\\n                  \\n              \\xa0\\n                4\\xa0rum', '2023-07-06', 'Kastellegårdsgatan 29', 'VillaVilla', '1\\xa0033\\xa0m² tomt', 'Slutpris 5\\xa0200\\xa0000\\xa0kr'], ['137\\n                  \\n                    + 19\\xa0m²\\n                  \\n              \\xa0\\n                4\\xa0rum', '2023-07-04', 'Sparråsvägen 140', 'VillaVilla', '961\\xa0m² tomt', 'Slutpris 3\\xa0850\\xa0000\\xa0kr'], ['174\\n                  \\n                    + 25\\xa0m²\\n                  \\n              \\xa0\\n                5\\xa0rum', '2023-07-04', 'Dammen 160', 'VillaVilla', '3\\xa0234\\xa0m² tomt', 'Slutpris 3\\xa0450\\xa0000\\xa0kr'], ['112\\xa0m²\\n              \\xa0\\n                4\\xa0rum', '2023-07-04', 'Önneröd 220', 'VillaVilla', '2\\xa0032\\xa0m² tomt', 'Slutpris 4\\xa0200\\xa0000\\xa0kr'], ['105\\n                  \\n                    + 140\\xa0m²\\n                  \\n              \\xa0\\n                4\\xa0rum', '2023-07-03', 'Tulpanvägen 15', 'VillaVilla', '914\\xa0m² tomt', 'Slutpris 3\\xa0900\\xa0000\\xa0kr'], ['195\\xa0m²\\n              \\xa0\\n                7\\xa0rum', '2023-07-02', 'Rubinvägen 19', 'VillaVilla', '937\\xa0m² tomt', 'Slutpris 5\\xa0050\\xa0000\\xa0kr'], ['164\\n                  \\n                    + 36\\xa0m²\\n                  \\n              \\xa0\\n                5\\xa0rum', '2023-06-30', 'Gårdskiftegatan 5', 'VillaVilla', '806\\xa0m² tomt', 'Slutpris 5\\xa0250\\xa0000\\xa0kr'], ['114\\n                  \\n                    + 110\\xa0m²\\n                  \\n              \\xa0\\n                7\\xa0rum', '2023-06-30', 'Norrmannebo 270', 'VillaVilla', '1\\xa0400\\xa0m² tomt', 'Slutpris 4\\xa0300\\xa0000\\xa0kr'], ['64\\n                  \\n                    + 53\\xa0m²\\n                  \\n              \\xa0\\n                3\\xa0rum', '2023-06-29', 'Dösebacka 120', 'VillaVilla', '3\\xa0824\\xa0m² tomt', 'Slutpris 2\\xa0960\\xa0000\\xa0kr'], ['171\\n                  \\n                    + 83\\xa0m²\\n                  \\n              \\xa0\\n                7\\xa0rum', '2023-06-28', 'Kärnavägen 16', 'VillaVilla', '695\\xa0m² tomt', 'Slutpris 4\\xa0300\\xa0000\\xa0kr'], ['159\\n                  \\n                    + 48\\xa0m²\\n                  \\n              \\xa0\\n                4\\xa0rum', '2023-06-22', 'Torp 250', 'VillaVilla', '1\\xa0608\\xa0m² tomt', 'Slutpris 3\\xa0950\\xa0000\\xa0kr'], ['133\\n                  \\n                    + 24\\xa0m²\\n                  \\n              \\xa0\\n                4\\xa0rum', '2023-06-21', 'Korpvägen 279', 'VillaVilla', '522\\xa0m² tomt', 'Slutpris 5\\xa0850\\xa0000\\xa0kr'], ['136\\xa0m²\\n              \\xa0\\n                5\\xa0rum', '2023-06-21', 'Västra gatan 48', 'VillaVilla', '937\\xa0m² tomt', 'Slutpris 6\\xa0500\\xa0000\\xa0kr']]\n"
     ]
    }
   ],
   "source": [
    "\n",
    "with open(\"kungalv_slutpriser/kungalv_slutpris_page_01.html\") as fp:\n",
    "    soup = BeautifulSoup(fp, 'html.parser')\n",
    "\n",
    "# date of sale\n",
    "listings = soup.findAll('li', class_ = 'sold-results__normal-hit')\n",
    "\n",
    "listing_elements = []\n",
    "for listing in listings:\n",
    "    listing_soup = BeautifulSoup(str(listing), 'html.parser')\n",
    "\n",
    "    area = listing_soup.find('div', {'class' : 'sold-property-listing__subheading sold-property-listing__area'}).text.strip()\n",
    "    # TO DO PRITISH: Works but needs regex implementation\n",
    "    dateofsale = clean_date(listing_soup.find('span', {'class' : 'hcl-label hcl-label--state hcl-label--sold-at'}).text.strip()[4:].strip())\n",
    "    address = listing_soup.find('h2', {'class' : 'sold-property-listing__heading qa-selling-price-title hcl-card__title'}).text.strip()\n",
    "    location = listing_soup.find('span', {'class' : 'property-icon property-icon--result'}).text.strip()\n",
    "    listingarea = listing_soup.find('div', {'class' : 'sold-property-listing__subheading sold-property-listing__area'}).text.strip()\n",
    "    plotarea = listing_soup.find('div', {'class' : 'sold-property-listing__land-area'}).text.strip()\n",
    "    closingprice = listing_soup.find('span',{'class' : 'hcl-text hcl-text--medium'}).text.strip()\n",
    "   # print(area, dateofsale, address, location, listingarea, plotarea, closingprice)\n",
    "    \n",
    "    # Append the attributes for each listing to a list\n",
    "    listing_info = [area, dateofsale, address, location, plotarea, closingprice]\n",
    "    \n",
    "    # Append the list of attributes to the overall list of listings\n",
    "    listing_elements.append(listing_info)\n",
    "\n",
    "print(listing_elements)\n",
    "\n",
    "\n",
    " "
   ]
  },
  {
   "cell_type": "code",
   "execution_count": null,
   "id": "dfd847a1",
   "metadata": {},
   "outputs": [],
   "source": [
    "   \n",
    "\n",
    "    \n",
    "#address\n",
    "    \n",
    "#location\n",
    "    \n",
    "#area in the form (boarea + biarea)\n",
    "\n",
    "#number of rooms\n",
    "    \n",
    "#area of the plot\n",
    "    \n",
    "\n",
    "#closing price\n"
   ]
  }
 ],
 "metadata": {
  "kernelspec": {
   "display_name": "Python 3 (ipykernel)",
   "language": "python",
   "name": "python3"
  },
  "language_info": {
   "codemirror_mode": {
    "name": "ipython",
    "version": 3
   },
   "file_extension": ".py",
   "mimetype": "text/x-python",
   "name": "python",
   "nbconvert_exporter": "python",
   "pygments_lexer": "ipython3",
   "version": "3.11.7"
  }
 },
 "nbformat": 4,
 "nbformat_minor": 5
}
